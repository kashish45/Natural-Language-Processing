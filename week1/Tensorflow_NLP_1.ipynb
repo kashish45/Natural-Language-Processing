{
  "nbformat": 4,
  "nbformat_minor": 0,
  "metadata": {
    "colab": {
      "name": "Tensorflow NLP -1",
      "provenance": [],
      "collapsed_sections": []
    },
    "kernelspec": {
      "name": "python3",
      "display_name": "Python 3"
    },
    "accelerator": "GPU"
  },
  "cells": [
    {
      "cell_type": "code",
      "metadata": {
        "id": "PvPlOP5WNRwN"
      },
      "source": [
        "import tensorflow as tf\r\n",
        "from tensorflow import keras\r\n",
        "from tensorflow.keras.preprocessing.text import Tokenizer"
      ],
      "execution_count": 2,
      "outputs": []
    },
    {
      "cell_type": "code",
      "metadata": {
        "id": "enyF_w5vPDvx"
      },
      "source": [
        "sentences=['I love my dog',\r\n",
        "           'I love my cat']"
      ],
      "execution_count": 3,
      "outputs": []
    },
    {
      "cell_type": "code",
      "metadata": {
        "colab": {
          "base_uri": "https://localhost:8080/"
        },
        "id": "qjrZn0zzPSYP",
        "outputId": "ab6eeb7d-132c-4dde-b818-622c172099c0"
      },
      "source": [
        "tokenizer=Tokenizer(num_words=100)\r\n",
        "tokenizer.fit_on_texts(sentences)\r\n",
        "word_index=tokenizer.word_index\r\n",
        "print(word_index) #Dictionary Returning Key-Value Pairs"
      ],
      "execution_count": 4,
      "outputs": [
        {
          "output_type": "stream",
          "text": [
            "{'i': 1, 'love': 2, 'my': 3, 'dog': 4, 'cat': 5}\n"
          ],
          "name": "stdout"
        }
      ]
    },
    {
      "cell_type": "code",
      "metadata": {
        "id": "1j06ZQqmPh4I"
      },
      "source": [
        "sentences_2=['I love my Dog',\r\n",
        "             'I love my Cat',\r\n",
        "             'You Love my dog']"
      ],
      "execution_count": 5,
      "outputs": []
    },
    {
      "cell_type": "code",
      "metadata": {
        "colab": {
          "base_uri": "https://localhost:8080/"
        },
        "id": "VelEMHrZP9OS",
        "outputId": "c25d5003-2615-430f-a498-319e94e01924"
      },
      "source": [
        "tokenizer_2=Tokenizer(num_words=100)\r\n",
        "tokenizer_2.fit_on_texts(sentences_2)\r\n",
        "word_index_2=tokenizer_2.word_index\r\n",
        "print(word_index_2)"
      ],
      "execution_count": 6,
      "outputs": [
        {
          "output_type": "stream",
          "text": [
            "{'love': 1, 'my': 2, 'i': 3, 'dog': 4, 'cat': 5, 'you': 6}\n"
          ],
          "name": "stdout"
        }
      ]
    },
    {
      "cell_type": "code",
      "metadata": {
        "id": "fIY5v5bNQM8U"
      },
      "source": [
        "sentences_3=['I love my Dog',\r\n",
        "             'I love my Cat',\r\n",
        "             'You Love my dog!',\r\n",
        "             'Do you think my dog is amazing?']"
      ],
      "execution_count": 8,
      "outputs": []
    },
    {
      "cell_type": "code",
      "metadata": {
        "colab": {
          "base_uri": "https://localhost:8080/"
        },
        "id": "7oIjY6rSR1BI",
        "outputId": "e5a05bb0-b022-41df-df82-fd7b1da0c7e0"
      },
      "source": [
        "tokenizer_3=Tokenizer(num_words=100)\r\n",
        "tokenizer_3.fit_on_texts(sentences_3)\r\n",
        "word_index_3=tokenizer_3.word_index\r\n",
        "print(word_index_3)"
      ],
      "execution_count": 16,
      "outputs": [
        {
          "output_type": "stream",
          "text": [
            "{'my': 1, 'love': 2, 'dog': 3, 'i': 4, 'you': 5, 'cat': 6, 'do': 7, 'think': 8, 'is': 9, 'amazing': 10}\n"
          ],
          "name": "stdout"
        }
      ]
    },
    {
      "cell_type": "code",
      "metadata": {
        "id": "nDNaTu8sSH2E"
      },
      "source": [
        "sequences=tokenizer_3.texts_to_sequences(sentences_3)"
      ],
      "execution_count": 19,
      "outputs": []
    },
    {
      "cell_type": "code",
      "metadata": {
        "colab": {
          "base_uri": "https://localhost:8080/"
        },
        "id": "qWEgwnVLSOij",
        "outputId": "1dc6af2a-90bd-4a6c-d0d5-22b727ce704f"
      },
      "source": [
        "print(word_index_3)\r\n",
        "print(sequences)"
      ],
      "execution_count": 20,
      "outputs": [
        {
          "output_type": "stream",
          "text": [
            "{'my': 1, 'love': 2, 'dog': 3, 'i': 4, 'you': 5, 'cat': 6, 'do': 7, 'think': 8, 'is': 9, 'amazing': 10}\n",
            "[[4, 2, 1, 3], [4, 2, 1, 6], [5, 2, 1, 3], [7, 5, 8, 1, 3, 9, 10]]\n"
          ],
          "name": "stdout"
        }
      ]
    },
    {
      "cell_type": "code",
      "metadata": {
        "id": "CNDX-YhxSUJ_"
      },
      "source": [
        " test_data=['i really love my dog',\r\n",
        "            'my dog loves my mantee']"
      ],
      "execution_count": 24,
      "outputs": []
    },
    {
      "cell_type": "code",
      "metadata": {
        "colab": {
          "base_uri": "https://localhost:8080/"
        },
        "id": "nmPOIne_TAFs",
        "outputId": "8f865000-fc9b-40c0-ee01-88c82b6a2c8a"
      },
      "source": [
        "sequences_2=tokenizer_3.texts_to_sequences(test_data)\r\n",
        "\r\n",
        "print(sequences_2) #Really being lost"
      ],
      "execution_count": 27,
      "outputs": [
        {
          "output_type": "stream",
          "text": [
            "[[4, 2, 1, 3], [1, 3, 1]]\n"
          ],
          "name": "stdout"
        }
      ]
    },
    {
      "cell_type": "code",
      "metadata": {
        "id": "m2NDoP9-TZIu"
      },
      "source": [
        ""
      ],
      "execution_count": null,
      "outputs": []
    }
  ]
}