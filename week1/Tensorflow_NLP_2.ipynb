{
  "nbformat": 4,
  "nbformat_minor": 0,
  "metadata": {
    "colab": {
      "name": "Tensorflow NLP -2",
      "provenance": [],
      "collapsed_sections": []
    },
    "kernelspec": {
      "name": "python3",
      "display_name": "Python 3"
    },
    "accelerator": "GPU"
  },
  "cells": [
    {
      "cell_type": "code",
      "metadata": {
        "id": "jHIRA_hCUlOa"
      },
      "source": [
        "from tensorflow.keras.preprocessing.text import Tokenizer"
      ],
      "execution_count": 1,
      "outputs": []
    },
    {
      "cell_type": "code",
      "metadata": {
        "id": "waCZ-ZvRUt-F"
      },
      "source": [
        "sentences=['I love my dog',\r\n",
        "           'I love my cat', \r\n",
        "           'You love my dog!',\r\n",
        "           'Do you think my dog is amazing' ]"
      ],
      "execution_count": 2,
      "outputs": []
    },
    {
      "cell_type": "code",
      "metadata": {
        "id": "dzhv8lM_U9BT"
      },
      "source": [
        "tokenizer=Tokenizer(num_words=100,oov_token=\"<OOV>\")\r\n",
        "tokenizer.fit_on_texts(sentences)\r\n",
        "word_index=tokenizer.word_index"
      ],
      "execution_count": 7,
      "outputs": []
    },
    {
      "cell_type": "code",
      "metadata": {
        "id": "Yt1z3aCAVO40"
      },
      "source": [
        "sequences=tokenizer.texts_to_sequences(sentences)"
      ],
      "execution_count": 8,
      "outputs": []
    },
    {
      "cell_type": "code",
      "metadata": {
        "id": "arF6T9RrVTLI"
      },
      "source": [
        "test_data=['i really love my dog',\r\n",
        "           'my dog loves my manatee']"
      ],
      "execution_count": 9,
      "outputs": []
    },
    {
      "cell_type": "code",
      "metadata": {
        "colab": {
          "base_uri": "https://localhost:8080/"
        },
        "id": "lrZtAD7EVYiw",
        "outputId": "b01b4c40-763a-4bbb-d1c0-d8ca1adb7a61"
      },
      "source": [
        "test_sequences=tokenizer.texts_to_sequences(test_data)\r\n",
        "print(test_sequences)"
      ],
      "execution_count": 10,
      "outputs": [
        {
          "output_type": "stream",
          "text": [
            "[[5, 1, 3, 2, 4], [2, 4, 1, 2, 1]]\n"
          ],
          "name": "stdout"
        }
      ]
    },
    {
      "cell_type": "code",
      "metadata": {
        "colab": {
          "base_uri": "https://localhost:8080/"
        },
        "id": "BnJnM0MlVfG6",
        "outputId": "e789c72d-61fc-40c4-9756-1a7e3bc852f8"
      },
      "source": [
        "tokenizer.word_index"
      ],
      "execution_count": 11,
      "outputs": [
        {
          "output_type": "execute_result",
          "data": {
            "text/plain": [
              "{'<OOV>': 1,\n",
              " 'amazing': 11,\n",
              " 'cat': 7,\n",
              " 'do': 8,\n",
              " 'dog': 4,\n",
              " 'i': 5,\n",
              " 'is': 10,\n",
              " 'love': 3,\n",
              " 'my': 2,\n",
              " 'think': 9,\n",
              " 'you': 6}"
            ]
          },
          "metadata": {
            "tags": []
          },
          "execution_count": 11
        }
      ]
    },
    {
      "cell_type": "code",
      "metadata": {
        "id": "NrNvcuDpVzxa"
      },
      "source": [
        ""
      ],
      "execution_count": null,
      "outputs": []
    }
  ]
}