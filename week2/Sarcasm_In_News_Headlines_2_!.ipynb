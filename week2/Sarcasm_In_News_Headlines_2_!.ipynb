{
  "nbformat": 4,
  "nbformat_minor": 0,
  "metadata": {
    "accelerator": "GPU",
    "colab": {
      "name": "Sarcasm In News Headlines-2 !",
      "provenance": [],
      "collapsed_sections": []
    },
    "kernelspec": {
      "display_name": "Python 3",
      "name": "python3"
    }
  },
  "cells": [
    {
      "cell_type": "code",
      "metadata": {
        "id": "ay6zJqlSb1en"
      },
      "source": [
        "import tensorflow as tf\r\n",
        "import json \r\n",
        "from tensorflow.keras.preprocessing.text import Tokenizer\r\n",
        "from tensorflow.keras.preprocessing.sequence import pad_sequences"
      ],
      "execution_count": 22,
      "outputs": []
    },
    {
      "cell_type": "code",
      "metadata": {
        "id": "mHweU8MycsOQ"
      },
      "source": [
        "#Setting Our Hyper-Parameters!!\r\n",
        "vocab_size=10000\r\n",
        "embedding_dim=16\r\n",
        "max_length=32\r\n",
        "trunc_type=\"post\"\r\n",
        "padding_type='post'\r\n",
        "ook_tok=\"<OOV>\"\r\n",
        "training_size=20000"
      ],
      "execution_count": 23,
      "outputs": []
    },
    {
      "cell_type": "code",
      "metadata": {
        "colab": {
          "base_uri": "https://localhost:8080/"
        },
        "id": "w3CMKrXPdFF1",
        "outputId": "28a26808-862a-42f0-fca8-027c023083cd"
      },
      "source": [
        "!wget --no-check-certificate \\\r\n",
        "    https://storage.googleapis.com/laurencemoroney-blog.appspot.com/sarcasm.json \\\r\n",
        "    -O /tmp/sarcasm.json"
      ],
      "execution_count": 24,
      "outputs": [
        {
          "output_type": "stream",
          "text": [
            "--2021-01-31 18:21:10--  https://storage.googleapis.com/laurencemoroney-blog.appspot.com/sarcasm.json\n",
            "Resolving storage.googleapis.com (storage.googleapis.com)... 142.250.31.128, 172.217.164.176, 172.217.2.112, ...\n",
            "Connecting to storage.googleapis.com (storage.googleapis.com)|142.250.31.128|:443... connected.\n",
            "HTTP request sent, awaiting response... 200 OK\n",
            "Length: 5643545 (5.4M) [application/json]\n",
            "Saving to: ‘/tmp/sarcasm.json’\n",
            "\n",
            "\r/tmp/sarcasm.json     0%[                    ]       0  --.-KB/s               \r/tmp/sarcasm.json   100%[===================>]   5.38M  --.-KB/s    in 0.02s   \n",
            "\n",
            "2021-01-31 18:21:10 (281 MB/s) - ‘/tmp/sarcasm.json’ saved [5643545/5643545]\n",
            "\n"
          ],
          "name": "stdout"
        }
      ]
    },
    {
      "cell_type": "code",
      "metadata": {
        "id": "-ud4V9wYdW_2"
      },
      "source": [
        "with open('/tmp/sarcasm.json') as f:\r\n",
        "  datastore=json.load(f)"
      ],
      "execution_count": 25,
      "outputs": []
    },
    {
      "cell_type": "code",
      "metadata": {
        "id": "sabjy5bMdjbZ"
      },
      "source": [
        "sentences=[]\r\n",
        "labels=[]\r\n",
        "for item in datastore:\r\n",
        "  sentences.append(item['headline'])\r\n",
        "  labels.append(item['is_sarcastic'])\r\n"
      ],
      "execution_count": 26,
      "outputs": []
    },
    {
      "cell_type": "code",
      "metadata": {
        "id": "oeRksinqdxIM"
      },
      "source": [
        "#Splitting The Data\r\n",
        "training_sentences=sentences[0:training_size]\r\n",
        "testing_sentences=sentences[training_size:]\r\n",
        "training_labels=labels[0:training_size]\r\n",
        "testing_labels=labels[training_size:]"
      ],
      "execution_count": 33,
      "outputs": []
    },
    {
      "cell_type": "code",
      "metadata": {
        "id": "0Lw1gbhermzJ"
      },
      "source": [
        "tokenizer=Tokenizer(num_words=vocab_size,oov_token=ook_tok)\r\n",
        "tokenizer.fit_on_texts(training_sentences)\r\n",
        "word_index=tokenizer.word_index\r\n",
        "\r\n",
        "\r\n",
        "training_sequences=tokenizer.texts_to_sequences(training_sentences)\r\n",
        "training_padded=pad_sequences(training_sequences,maxlen=max_length,padding=padding_type,truncating=trunc_type)\r\n",
        "\r\n",
        "testing_sequences=tokenizer.texts_to_sequences(testing_sentences)\r\n",
        "testing_padded=pad_sequences(testing_sequences,maxlen=max_length,padding=padding_type,truncating=trunc_type)\r\n",
        "\r\n"
      ],
      "execution_count": 29,
      "outputs": []
    },
    {
      "cell_type": "code",
      "metadata": {
        "id": "5QI0sStmvMC8"
      },
      "source": [
        "import numpy as np\r\n",
        "training_padded = np.array(training_padded)\r\n",
        "training_labels = np.array(training_labels)\r\n",
        "testing_padded = np.array(testing_padded)\r\n",
        "testing_labels = np.array(testing_labels)"
      ],
      "execution_count": 35,
      "outputs": []
    },
    {
      "cell_type": "code",
      "metadata": {
        "id": "AXUdhOpttlD6"
      },
      "source": [
        "model=tf.keras.Sequential([\r\n",
        "                           tf.keras.layers.Embedding(vocab_size,embedding_dim,input_length=max_length),\r\n",
        "                           tf.keras.layers.GlobalAveragePooling1D(),\r\n",
        "                           tf.keras.layers.Dense(24,activation='relu'),\r\n",
        "                           tf.keras.layers.Dense(1,activation='sigmoid')\r\n",
        "])"
      ],
      "execution_count": 36,
      "outputs": []
    },
    {
      "cell_type": "code",
      "metadata": {
        "id": "QLvwsxKEt981"
      },
      "source": [
        "model.compile(loss='binary_crossentropy',optimizer='adam',metrics=['accuracy'])"
      ],
      "execution_count": 37,
      "outputs": []
    },
    {
      "cell_type": "code",
      "metadata": {
        "colab": {
          "base_uri": "https://localhost:8080/"
        },
        "id": "FMJiyS82uFZ4",
        "outputId": "b66106c3-8328-4bef-fc42-f0edc236f378"
      },
      "source": [
        "num_epochs=30\r\n",
        "history_1=model.fit(training_padded,training_labels,epochs=num_epochs,validation_data=(testing_padded,testing_labels),verbose=2)"
      ],
      "execution_count": 38,
      "outputs": [
        {
          "output_type": "stream",
          "text": [
            "Epoch 1/30\n",
            "625/625 - 4s - loss: 0.5571 - accuracy: 0.7089 - val_loss: 0.3991 - val_accuracy: 0.8337\n",
            "Epoch 2/30\n",
            "625/625 - 2s - loss: 0.3098 - accuracy: 0.8755 - val_loss: 0.3443 - val_accuracy: 0.8533\n",
            "Epoch 3/30\n",
            "625/625 - 2s - loss: 0.2312 - accuracy: 0.9103 - val_loss: 0.3609 - val_accuracy: 0.8420\n",
            "Epoch 4/30\n",
            "625/625 - 2s - loss: 0.1867 - accuracy: 0.9283 - val_loss: 0.3766 - val_accuracy: 0.8495\n",
            "Epoch 5/30\n",
            "625/625 - 2s - loss: 0.1538 - accuracy: 0.9426 - val_loss: 0.4014 - val_accuracy: 0.8478\n",
            "Epoch 6/30\n",
            "625/625 - 2s - loss: 0.1305 - accuracy: 0.9531 - val_loss: 0.4341 - val_accuracy: 0.8460\n",
            "Epoch 7/30\n",
            "625/625 - 2s - loss: 0.1114 - accuracy: 0.9612 - val_loss: 0.4715 - val_accuracy: 0.8399\n",
            "Epoch 8/30\n",
            "625/625 - 2s - loss: 0.0959 - accuracy: 0.9685 - val_loss: 0.5289 - val_accuracy: 0.8381\n",
            "Epoch 9/30\n",
            "625/625 - 2s - loss: 0.0828 - accuracy: 0.9730 - val_loss: 0.5860 - val_accuracy: 0.8304\n",
            "Epoch 10/30\n",
            "625/625 - 2s - loss: 0.0714 - accuracy: 0.9765 - val_loss: 0.6304 - val_accuracy: 0.8317\n",
            "Epoch 11/30\n",
            "625/625 - 2s - loss: 0.0621 - accuracy: 0.9797 - val_loss: 0.7027 - val_accuracy: 0.8268\n",
            "Epoch 12/30\n",
            "625/625 - 2s - loss: 0.0533 - accuracy: 0.9840 - val_loss: 0.7538 - val_accuracy: 0.8232\n",
            "Epoch 13/30\n",
            "625/625 - 2s - loss: 0.0462 - accuracy: 0.9857 - val_loss: 0.8087 - val_accuracy: 0.8204\n",
            "Epoch 14/30\n",
            "625/625 - 2s - loss: 0.0409 - accuracy: 0.9876 - val_loss: 0.8634 - val_accuracy: 0.8193\n",
            "Epoch 15/30\n",
            "625/625 - 2s - loss: 0.0358 - accuracy: 0.9891 - val_loss: 0.9535 - val_accuracy: 0.8162\n",
            "Epoch 16/30\n",
            "625/625 - 2s - loss: 0.0320 - accuracy: 0.9912 - val_loss: 0.9964 - val_accuracy: 0.8135\n",
            "Epoch 17/30\n",
            "625/625 - 2s - loss: 0.0280 - accuracy: 0.9926 - val_loss: 1.0942 - val_accuracy: 0.8150\n",
            "Epoch 18/30\n",
            "625/625 - 2s - loss: 0.0250 - accuracy: 0.9927 - val_loss: 1.1249 - val_accuracy: 0.8114\n",
            "Epoch 19/30\n",
            "625/625 - 2s - loss: 0.0223 - accuracy: 0.9941 - val_loss: 1.1781 - val_accuracy: 0.8111\n",
            "Epoch 20/30\n",
            "625/625 - 2s - loss: 0.0206 - accuracy: 0.9938 - val_loss: 1.2744 - val_accuracy: 0.8120\n",
            "Epoch 21/30\n",
            "625/625 - 2s - loss: 0.0180 - accuracy: 0.9956 - val_loss: 1.3192 - val_accuracy: 0.8097\n",
            "Epoch 22/30\n",
            "625/625 - 2s - loss: 0.0172 - accuracy: 0.9948 - val_loss: 1.4134 - val_accuracy: 0.8086\n",
            "Epoch 23/30\n",
            "625/625 - 2s - loss: 0.0145 - accuracy: 0.9961 - val_loss: 1.4427 - val_accuracy: 0.8082\n",
            "Epoch 24/30\n",
            "625/625 - 2s - loss: 0.0125 - accuracy: 0.9967 - val_loss: 1.5101 - val_accuracy: 0.8061\n",
            "Epoch 25/30\n",
            "625/625 - 2s - loss: 0.0118 - accuracy: 0.9972 - val_loss: 1.5376 - val_accuracy: 0.8037\n",
            "Epoch 26/30\n",
            "625/625 - 2s - loss: 0.0115 - accuracy: 0.9967 - val_loss: 1.5909 - val_accuracy: 0.8046\n",
            "Epoch 27/30\n",
            "625/625 - 2s - loss: 0.0115 - accuracy: 0.9966 - val_loss: 1.6979 - val_accuracy: 0.8046\n",
            "Epoch 28/30\n",
            "625/625 - 2s - loss: 0.0111 - accuracy: 0.9966 - val_loss: 1.7586 - val_accuracy: 0.8049\n",
            "Epoch 29/30\n",
            "625/625 - 2s - loss: 0.0103 - accuracy: 0.9969 - val_loss: 1.7789 - val_accuracy: 0.8028\n",
            "Epoch 30/30\n",
            "625/625 - 2s - loss: 0.0082 - accuracy: 0.9977 - val_loss: 1.7704 - val_accuracy: 0.8035\n"
          ],
          "name": "stdout"
        }
      ]
    },
    {
      "cell_type": "code",
      "metadata": {
        "colab": {
          "base_uri": "https://localhost:8080/",
          "height": 541
        },
        "id": "LPFFAwdAuW92",
        "outputId": "673a5b84-8617-49d4-b25b-c0c01a04b52f"
      },
      "source": [
        "import matplotlib.pyplot as plt\r\n",
        "\r\n",
        "\r\n",
        "def plot_graphs(history, string):\r\n",
        "  plt.plot(history_1.history[string])\r\n",
        "  plt.plot(history_1.history['val_'+string])\r\n",
        "  plt.xlabel(\"Epochs\")\r\n",
        "  plt.ylabel(string)\r\n",
        "  plt.legend([string, 'val_'+string])\r\n",
        "  plt.show()\r\n",
        "  \r\n",
        "plot_graphs(history_1, \"accuracy\")\r\n",
        "plot_graphs(history_1, \"loss\")"
      ],
      "execution_count": 40,
      "outputs": [
        {
          "output_type": "display_data",
          "data": {
            "image/png": "[encoded data removed]",
            "text/plain": [
              "<Figure size 432x288 with 1 Axes>"
            ]
          },
          "metadata": {
            "tags": [],
            "needs_background": "light"
          }
        },
        {
          "output_type": "display_data",
          "data": {
            "image/png": "[encoded data removed]",
            "text/plain": [
              "<Figure size 432x288 with 1 Axes>"
            ]
          },
          "metadata": {
            "tags": [],
            "needs_background": "light"
          }
        }
      ]
    },
    {
      "cell_type": "code",
      "metadata": {
        "colab": {
          "base_uri": "https://localhost:8080/"
        },
        "id": "vVoI5leywxuh",
        "outputId": "14a20af9-604d-4b83-fd14-fb1f173fd56e"
      },
      "source": [
        "reverse_word_index = dict([(value, key) for (key, value) in word_index.items()])\r\n",
        "\r\n",
        "def decode_sentence(text):\r\n",
        "    return ' '.join([reverse_word_index.get(i, '?') for i in text])\r\n",
        "\r\n",
        "print(decode_sentence(training_padded[0]))\r\n",
        "print(training_sentences[2])\r\n",
        "print(labels[2])"
      ],
      "execution_count": 41,
      "outputs": [
        {
          "output_type": "stream",
          "text": [
            "former <OOV> store clerk sues over secret 'black <OOV> for minority shoppers ? ? ? ? ? ? ? ? ? ? ? ? ? ? ? ? ? ? ? ?\n",
            "mom starting to fear son's web series closest thing she will have to grandchild\n",
            "1\n"
          ],
          "name": "stdout"
        }
      ]
    },
    {
      "cell_type": "code",
      "metadata": {
        "id": "Xeb0CkE4w952"
      },
      "source": [
        "# #Try change in parameters for better results_--->\r\n",
        "# vocab_size=1000\r\n",
        "# embedding_dim=16\r\n",
        "# max_length=16\r\n",
        "# trunc_type=\"post\"\r\n",
        "# padding_type='post'\r\n",
        "# ook_tok=\"<OOV>\"\r\n",
        "# training_size=20000"
      ],
      "execution_count": 43,
      "outputs": []
    },
    {
      "cell_type": "code",
      "metadata": {
        "id": "xYXc9eITxcJ_"
      },
      "source": [
        ""
      ],
      "execution_count": null,
      "outputs": []
    }
  ]
}